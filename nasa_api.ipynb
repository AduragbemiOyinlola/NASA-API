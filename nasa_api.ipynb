{
 "cells": [
  {
   "cell_type": "code",
   "execution_count": 1,
   "metadata": {},
   "outputs": [],
   "source": [
    "import os\n",
    "import requests\n",
    "import json\n",
    "import pandas as pd"
   ]
  },
  {
   "cell_type": "code",
   "execution_count": 2,
   "metadata": {},
   "outputs": [],
   "source": [
    "url = \"https://api.nasa.gov/planetary/apod\" # the apod url"
   ]
  },
  {
   "cell_type": "code",
   "execution_count": 3,
   "metadata": {},
   "outputs": [],
   "source": [
    "# parameters for the API\n",
    "params = {\n",
    "    'start_date': '',\n",
    "    'end_date': '',\n",
    "    'api_key': os.getenv('NASA_API_KEY')\n",
    "}"
   ]
  },
  {
   "cell_type": "code",
   "execution_count": 4,
   "metadata": {},
   "outputs": [
    {
     "data": {
      "text/plain": [
       "200"
      ]
     },
     "execution_count": 4,
     "metadata": {},
     "output_type": "execute_result"
    }
   ],
   "source": [
    "# gets data from the url provided\n",
    "response = requests.get(url, params=params)\n",
    "response.status_code"
   ]
  },
  {
   "cell_type": "code",
   "execution_count": 5,
   "metadata": {},
   "outputs": [],
   "source": [
    "# parse the JSON-formatted strin into a Python dictionary\n",
    "data = json.loads(response.text)"
   ]
  },
  {
   "cell_type": "code",
   "execution_count": 6,
   "metadata": {},
   "outputs": [
    {
     "data": {
      "text/plain": [
       "{'copyright': '\\nPetr Horálek\\n(ESO\\nPhoto Ambassador,\\nInst. of Physics in Opava) ;\\n Acknowledgement: \\nXavier Jubier\\n',\n",
       " 'date': '2024-03-31',\n",
       " 'explanation': \"In late 2021 there was a total solar eclipse visible only at the end of the Earth.  To capture the unusual phenomenon, airplanes took flight below the clouded seascape of Southern Ocean. The featured image shows one relatively spectacular capture where the bright spot is the outer corona of the Sun and the eclipsing Moon is seen as the dark spot in the center.  A wing and engine of the airplane are visible across the left and bottom of the image, while another airplane observing the eclipse is visible on the far left. The dark area of the sky surrounding the eclipsed Sun is called a shadow cone. It is dark because you are looking down a long corridor of air shadowed by the Moon. A careful inspection of the eclipsed Sun will reveal the planet Mercury just to the right. You won't have to travel to the end of the Earth to see the next total solar eclipse. The total eclipse path will cross North America on 2024 April 8, just over one week from today.   NASA Coverage: Total Solar Eclipse of 2024 April 8\",\n",
       " 'hdurl': 'https://apod.nasa.gov/apod/image/2403/EclipseAntarctica_Horalek_1500.jpg',\n",
       " 'media_type': 'image',\n",
       " 'service_version': 'v1',\n",
       " 'title': 'Total Solar Eclipse Below the Bottom of the World',\n",
       " 'url': 'https://apod.nasa.gov/apod/image/2403/EclipseAntarctica_Horalek_1080.jpg'}"
      ]
     },
     "execution_count": 6,
     "metadata": {},
     "output_type": "execute_result"
    }
   ],
   "source": [
    "# gotten from url\n",
    "data"
   ]
  },
  {
   "cell_type": "markdown",
   "metadata": {},
   "source": [
    "## **NASA API USING THE START AND END DATE ON ANOTHER URL**"
   ]
  },
  {
   "cell_type": "code",
   "execution_count": 7,
   "metadata": {},
   "outputs": [],
   "source": [
    "# working on another url\n",
    "new_url = 'https://api.nasa.gov/neo/rest/v1/feed'"
   ]
  },
  {
   "cell_type": "code",
   "execution_count": 8,
   "metadata": {},
   "outputs": [],
   "source": [
    "# parameters for new url\n",
    "parameter = {\n",
    "    'api_key': os.getenv('NASA_API_KEY'),\n",
    "    'start_date': '2024-02-04',\n",
    "    'end_date': '2024-02-09'\n",
    "}"
   ]
  },
  {
   "cell_type": "code",
   "execution_count": 9,
   "metadata": {},
   "outputs": [
    {
     "data": {
      "text/plain": [
       "200"
      ]
     },
     "execution_count": 9,
     "metadata": {},
     "output_type": "execute_result"
    }
   ],
   "source": [
    "# used the requests library to get the data from the new url\n",
    "new_response = requests.get(new_url, params=parameter)\n",
    "new_response.status_code"
   ]
  },
  {
   "cell_type": "code",
   "execution_count": null,
   "metadata": {},
   "outputs": [],
   "source": [
    "# parse the JSON-formatted strin into a Python dictionary\n",
    "new_data = json.loads(new_response.text)\n",
    "new_data"
   ]
  },
  {
   "cell_type": "code",
   "execution_count": 11,
   "metadata": {},
   "outputs": [
    {
     "data": {
      "text/plain": [
       "dict_keys(['links', 'element_count', 'near_earth_objects'])"
      ]
     },
     "execution_count": 11,
     "metadata": {},
     "output_type": "execute_result"
    }
   ],
   "source": [
    "# the data gotten here appears to be in dictionary\n",
    "new_data.keys()"
   ]
  },
  {
   "cell_type": "code",
   "execution_count": null,
   "metadata": {},
   "outputs": [],
   "source": [
    "new_data['near_earth_objects']"
   ]
  },
  {
   "cell_type": "markdown",
   "metadata": {},
   "source": [
    "## **TASK**\n",
    "\n",
    "Do the necessary data pre-processing tasks on the previous result in order to get a clean dataframe with the following columns:\n",
    "- Asteroid ID\n",
    "- Asteroid name\n",
    "- The minimal estimated diameter in Kilometre\n",
    "- Absolute magnitude\n",
    "- Relative velocity(km/s)"
   ]
  },
  {
   "cell_type": "code",
   "execution_count": 13,
   "metadata": {},
   "outputs": [
    {
     "data": {
      "text/plain": [
       "'2347813'"
      ]
     },
     "execution_count": 13,
     "metadata": {},
     "output_type": "execute_result"
    }
   ],
   "source": [
    "# asteroid id\n",
    "new_data['near_earth_objects']['2024-02-05'][0]['id']"
   ]
  },
  {
   "cell_type": "code",
   "execution_count": 14,
   "metadata": {},
   "outputs": [
    {
     "data": {
      "text/plain": [
       "'347813 (2002 NP1)'"
      ]
     },
     "execution_count": 14,
     "metadata": {},
     "output_type": "execute_result"
    }
   ],
   "source": [
    "# asteroid name\n",
    "new_data['near_earth_objects']['2024-02-05'][0]['name']"
   ]
  },
  {
   "cell_type": "code",
   "execution_count": 15,
   "metadata": {},
   "outputs": [
    {
     "data": {
      "text/plain": [
       "0.7808272775"
      ]
     },
     "execution_count": 15,
     "metadata": {},
     "output_type": "execute_result"
    }
   ],
   "source": [
    "# minimal estimated diameter in KM\n",
    "new_data['near_earth_objects']['2024-02-05'][0]['estimated_diameter']['kilometers']['estimated_diameter_min']"
   ]
  },
  {
   "cell_type": "code",
   "execution_count": 16,
   "metadata": {},
   "outputs": [
    {
     "data": {
      "text/plain": [
       "17.66"
      ]
     },
     "execution_count": 16,
     "metadata": {},
     "output_type": "execute_result"
    }
   ],
   "source": [
    "# absolute magnitude relative velocity(km/s)\n",
    "new_data['near_earth_objects']['2024-02-05'][0]['absolute_magnitude_h']"
   ]
  },
  {
   "cell_type": "code",
   "execution_count": 17,
   "metadata": {},
   "outputs": [
    {
     "data": {
      "text/plain": [
       "'8.2382303218'"
      ]
     },
     "execution_count": 17,
     "metadata": {},
     "output_type": "execute_result"
    }
   ],
   "source": [
    "# relative velocity(km/s)\n",
    "new_data['near_earth_objects']['2024-02-05'][2]['close_approach_data'][0]['relative_velocity']['kilometers_per_second']"
   ]
  },
  {
   "cell_type": "markdown",
   "metadata": {},
   "source": [
    "## **PUT DATA INTO A DATAFRAME**"
   ]
  },
  {
   "cell_type": "code",
   "execution_count": 18,
   "metadata": {},
   "outputs": [
    {
     "data": {
      "text/html": [
       "<div>\n",
       "<style scoped>\n",
       "    .dataframe tbody tr th:only-of-type {\n",
       "        vertical-align: middle;\n",
       "    }\n",
       "\n",
       "    .dataframe tbody tr th {\n",
       "        vertical-align: top;\n",
       "    }\n",
       "\n",
       "    .dataframe thead th {\n",
       "        text-align: right;\n",
       "    }\n",
       "</style>\n",
       "<table border=\"1\" class=\"dataframe\">\n",
       "  <thead>\n",
       "    <tr style=\"text-align: right;\">\n",
       "      <th></th>\n",
       "      <th>Asteroid_ID</th>\n",
       "      <th>Asteroid_name</th>\n",
       "      <th>Minimal_estimated_diameter(Km)</th>\n",
       "      <th>Absolute_magnitude</th>\n",
       "      <th>Relative_velocity(Km/s)</th>\n",
       "    </tr>\n",
       "  </thead>\n",
       "  <tbody>\n",
       "    <tr>\n",
       "      <th>0</th>\n",
       "      <td>2347813</td>\n",
       "      <td>347813 (2002 NP1)</td>\n",
       "      <td>0.780827</td>\n",
       "      <td>17.66</td>\n",
       "      <td>13.310416392</td>\n",
       "    </tr>\n",
       "    <tr>\n",
       "      <th>1</th>\n",
       "      <td>2444627</td>\n",
       "      <td>444627 (2006 WU)</td>\n",
       "      <td>0.411675</td>\n",
       "      <td>19.05</td>\n",
       "      <td>1.9982604604</td>\n",
       "    </tr>\n",
       "    <tr>\n",
       "      <th>2</th>\n",
       "      <td>2451370</td>\n",
       "      <td>451370 (2011 AK5)</td>\n",
       "      <td>0.134448</td>\n",
       "      <td>21.48</td>\n",
       "      <td>8.2382303218</td>\n",
       "    </tr>\n",
       "    <tr>\n",
       "      <th>3</th>\n",
       "      <td>3440771</td>\n",
       "      <td>(2008 WZ94)</td>\n",
       "      <td>0.235806</td>\n",
       "      <td>20.26</td>\n",
       "      <td>16.1492348048</td>\n",
       "    </tr>\n",
       "    <tr>\n",
       "      <th>4</th>\n",
       "      <td>3557844</td>\n",
       "      <td>(2011 DW)</td>\n",
       "      <td>0.076658</td>\n",
       "      <td>22.70</td>\n",
       "      <td>14.872591907</td>\n",
       "    </tr>\n",
       "  </tbody>\n",
       "</table>\n",
       "</div>"
      ],
      "text/plain": [
       "  Asteroid_ID      Asteroid_name  Minimal_estimated_diameter(Km)  \\\n",
       "0     2347813  347813 (2002 NP1)                        0.780827   \n",
       "1     2444627   444627 (2006 WU)                        0.411675   \n",
       "2     2451370  451370 (2011 AK5)                        0.134448   \n",
       "3     3440771        (2008 WZ94)                        0.235806   \n",
       "4     3557844          (2011 DW)                        0.076658   \n",
       "\n",
       "   Absolute_magnitude Relative_velocity(Km/s)  \n",
       "0               17.66            13.310416392  \n",
       "1               19.05            1.9982604604  \n",
       "2               21.48            8.2382303218  \n",
       "3               20.26           16.1492348048  \n",
       "4               22.70            14.872591907  "
      ]
     },
     "execution_count": 18,
     "metadata": {},
     "output_type": "execute_result"
    }
   ],
   "source": [
    "# create a DataFrame\n",
    "df = pd.DataFrame() \n",
    "# loop through each day\n",
    "for days in new_data['near_earth_objects']:\n",
    "    # save the value for that day in a variable 'daily_near_earth_object'\n",
    "    daily_near_earth_object = new_data['near_earth_objects'][days]\n",
    "    # loop through the 'daily_near_earth_object'\n",
    "    for near_earth_object in daily_near_earth_object:\n",
    "        # create a temporary DataFrame \n",
    "        temp = pd.DataFrame(\n",
    "            {\n",
    "                'Asteroid_ID': [near_earth_object['id']],\n",
    "                'Asteroid_name': [near_earth_object['name']],\n",
    "                'Minimal_estimated_diameter(Km)': [near_earth_object['estimated_diameter']['kilometers']['estimated_diameter_min']],\n",
    "                'Absolute_magnitude': [near_earth_object['absolute_magnitude_h']],\n",
    "                'Relative_velocity(Km/s)': [near_earth_object['close_approach_data'][0]['relative_velocity']['kilometers_per_second']]\n",
    "            }\n",
    "        )\n",
    "        # combine the temporary DataFrames\n",
    "        df = pd.concat([df, temp], ignore_index=True)\n",
    "df.head()"
   ]
  },
  {
   "cell_type": "code",
   "execution_count": 19,
   "metadata": {},
   "outputs": [
    {
     "data": {
      "text/plain": [
       "(120, 5)"
      ]
     },
     "execution_count": 19,
     "metadata": {},
     "output_type": "execute_result"
    }
   ],
   "source": [
    "df.shape"
   ]
  }
 ],
 "metadata": {
  "kernelspec": {
   "display_name": "Python 3",
   "language": "python",
   "name": "python3"
  },
  "language_info": {
   "codemirror_mode": {
    "name": "ipython",
    "version": 3
   },
   "file_extension": ".py",
   "mimetype": "text/x-python",
   "name": "python",
   "nbconvert_exporter": "python",
   "pygments_lexer": "ipython3",
   "version": "3.12.2"
  }
 },
 "nbformat": 4,
 "nbformat_minor": 2
}
